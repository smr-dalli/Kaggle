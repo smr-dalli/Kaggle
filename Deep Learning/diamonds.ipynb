{
  "cells": [
    {
      "cell_type": "code",
      "metadata": {
        "tags": [],
        "cell_id": "00000-42c321f2-13d3-4523-9a4a-93c9a373e259",
        "deepnote_to_be_reexecuted": false,
        "source_hash": "52326b1a",
        "execution_millis": 136,
        "execution_start": 1614981786473,
        "deepnote_cell_type": "code"
      },
      "source": "# Start writing code here...\nimport pandas as pd\ndata = pd.read_csv('diamonds.csv')\ndata\n\n",
      "execution_count": 1,
      "outputs": [
        {
          "output_type": "execute_result",
          "execution_count": 1,
          "data": {
            "application/vnd.deepnote.dataframe.v2+json": {
              "row_count": 53940,
              "column_count": 10,
              "columns": [
                {
                  "name": "carat",
                  "dtype": "float64",
                  "stats": {
                    "unique_count": 273,
                    "nan_count": 0,
                    "min": 0.2,
                    "max": 5.01,
                    "histogram": [
                      {
                        "bin_start": 0.2,
                        "bin_end": 0.681,
                        "count": 25155
                      },
                      {
                        "bin_start": 0.681,
                        "bin_end": 1.162,
                        "count": 18626
                      },
                      {
                        "bin_start": 1.162,
                        "bin_end": 1.643,
                        "count": 7129
                      },
                      {
                        "bin_start": 1.643,
                        "bin_end": 2.124,
                        "count": 2349
                      },
                      {
                        "bin_start": 2.124,
                        "bin_end": 2.605,
                        "count": 614
                      },
                      {
                        "bin_start": 2.605,
                        "bin_end": 3.0860000000000003,
                        "count": 53
                      },
                      {
                        "bin_start": 3.0860000000000003,
                        "bin_end": 3.567,
                        "count": 6
                      },
                      {
                        "bin_start": 3.567,
                        "bin_end": 4.048,
                        "count": 5
                      },
                      {
                        "bin_start": 4.048,
                        "bin_end": 4.529,
                        "count": 2
                      },
                      {
                        "bin_start": 4.529,
                        "bin_end": 5.01,
                        "count": 1
                      }
                    ]
                  }
                },
                {
                  "name": "cut",
                  "dtype": "object"
                },
                {
                  "name": "color",
                  "dtype": "object"
                },
                {
                  "name": "clarity",
                  "dtype": "object"
                },
                {
                  "name": "depth",
                  "dtype": "float64"
                },
                {
                  "name": "table",
                  "dtype": "float64"
                },
                {
                  "name": "price",
                  "dtype": "int64"
                },
                {
                  "name": "x",
                  "dtype": "float64"
                },
                {
                  "name": "y",
                  "dtype": "float64"
                },
                {
                  "name": "z",
                  "dtype": "float64"
                },
                {
                  "name": "_deepnote_index_column",
                  "dtype": "int64"
                }
              ],
              "rows_top": [
                {
                  "carat": 0.23,
                  "cut": "Ideal",
                  "color": "E",
                  "clarity": "SI2",
                  "depth": 61.5,
                  "table": 55,
                  "price": 326,
                  "x": 3.95,
                  "y": 3.98,
                  "z": 2.43,
                  "_deepnote_index_column": 0
                },
                {
                  "carat": 0.21,
                  "cut": "Premium",
                  "color": "E",
                  "clarity": "SI1",
                  "depth": 59.8,
                  "table": 61,
                  "price": 326,
                  "x": 3.89,
                  "y": 3.84,
                  "z": 2.31,
                  "_deepnote_index_column": 1
                },
                {
                  "carat": 0.23,
                  "cut": "Good",
                  "color": "E",
                  "clarity": "VS1",
                  "depth": 56.9,
                  "table": 65,
                  "price": 327,
                  "x": 4.05,
                  "y": 4.07,
                  "z": 2.31,
                  "_deepnote_index_column": 2
                },
                {
                  "carat": 0.29,
                  "cut": "Premium",
                  "color": "I",
                  "clarity": "VS2",
                  "depth": 62.4,
                  "table": 58,
                  "price": 334,
                  "x": 4.2,
                  "y": 4.23,
                  "z": 2.63,
                  "_deepnote_index_column": 3
                },
                {
                  "carat": 0.31,
                  "cut": "Good",
                  "color": "J",
                  "clarity": "SI2",
                  "depth": 63.3,
                  "table": 58,
                  "price": 335,
                  "x": 4.34,
                  "y": 4.35,
                  "z": 2.75,
                  "_deepnote_index_column": 4
                },
                {
                  "carat": 0.24,
                  "cut": "Very Good",
                  "color": "J",
                  "clarity": "VVS2",
                  "depth": 62.8,
                  "table": 57,
                  "price": 336,
                  "x": 3.94,
                  "y": 3.96,
                  "z": 2.48,
                  "_deepnote_index_column": 5
                },
                {
                  "carat": 0.24,
                  "cut": "Very Good",
                  "color": "I",
                  "clarity": "VVS1",
                  "depth": 62.3,
                  "table": 57,
                  "price": 336,
                  "x": 3.95,
                  "y": 3.98,
                  "z": 2.47,
                  "_deepnote_index_column": 6
                },
                {
                  "carat": 0.26,
                  "cut": "Very Good",
                  "color": "H",
                  "clarity": "SI1",
                  "depth": 61.9,
                  "table": 55,
                  "price": 337,
                  "x": 4.07,
                  "y": 4.11,
                  "z": 2.53,
                  "_deepnote_index_column": 7
                },
                {
                  "carat": 0.22,
                  "cut": "Fair",
                  "color": "E",
                  "clarity": "VS2",
                  "depth": 65.1,
                  "table": 61,
                  "price": 337,
                  "x": 3.87,
                  "y": 3.78,
                  "z": 2.49,
                  "_deepnote_index_column": 8
                },
                {
                  "carat": 0.23,
                  "cut": "Very Good",
                  "color": "H",
                  "clarity": "VS1",
                  "depth": 59.4,
                  "table": 61,
                  "price": 338,
                  "x": 4,
                  "y": 4.05,
                  "z": 2.39,
                  "_deepnote_index_column": 9
                },
                {
                  "carat": 0.3,
                  "cut": "Good",
                  "color": "J",
                  "clarity": "SI1",
                  "depth": 64,
                  "table": 55,
                  "price": 339,
                  "x": 4.25,
                  "y": 4.28,
                  "z": 2.73,
                  "_deepnote_index_column": 10
                },
                {
                  "carat": 0.23,
                  "cut": "Ideal",
                  "color": "J",
                  "clarity": "VS1",
                  "depth": 62.8,
                  "table": 56,
                  "price": 340,
                  "x": 3.93,
                  "y": 3.9,
                  "z": 2.46,
                  "_deepnote_index_column": 11
                },
                {
                  "carat": 0.22,
                  "cut": "Premium",
                  "color": "F",
                  "clarity": "SI1",
                  "depth": 60.4,
                  "table": 61,
                  "price": 342,
                  "x": 3.88,
                  "y": 3.84,
                  "z": 2.33,
                  "_deepnote_index_column": 12
                },
                {
                  "carat": 0.31,
                  "cut": "Ideal",
                  "color": "J",
                  "clarity": "SI2",
                  "depth": 62.2,
                  "table": 54,
                  "price": 344,
                  "x": 4.35,
                  "y": 4.37,
                  "z": 2.71,
                  "_deepnote_index_column": 13
                },
                {
                  "carat": 0.2,
                  "cut": "Premium",
                  "color": "E",
                  "clarity": "SI2",
                  "depth": 60.2,
                  "table": 62,
                  "price": 345,
                  "x": 3.79,
                  "y": 3.75,
                  "z": 2.27,
                  "_deepnote_index_column": 14
                },
                {
                  "carat": 0.32,
                  "cut": "Premium",
                  "color": "E",
                  "clarity": "I1",
                  "depth": 60.9,
                  "table": 58,
                  "price": 345,
                  "x": 4.38,
                  "y": 4.42,
                  "z": 2.68,
                  "_deepnote_index_column": 15
                },
                {
                  "carat": 0.3,
                  "cut": "Ideal",
                  "color": "I",
                  "clarity": "SI2",
                  "depth": 62,
                  "table": 54,
                  "price": 348,
                  "x": 4.31,
                  "y": 4.34,
                  "z": 2.68,
                  "_deepnote_index_column": 16
                },
                {
                  "carat": 0.3,
                  "cut": "Good",
                  "color": "J",
                  "clarity": "SI1",
                  "depth": 63.4,
                  "table": 54,
                  "price": 351,
                  "x": 4.23,
                  "y": 4.29,
                  "z": 2.7,
                  "_deepnote_index_column": 17
                },
                {
                  "carat": 0.3,
                  "cut": "Good",
                  "color": "J",
                  "clarity": "SI1",
                  "depth": 63.8,
                  "table": 56,
                  "price": 351,
                  "x": 4.23,
                  "y": 4.26,
                  "z": 2.71,
                  "_deepnote_index_column": 18
                },
                {
                  "carat": 0.3,
                  "cut": "Very Good",
                  "color": "J",
                  "clarity": "SI1",
                  "depth": 62.7,
                  "table": 59,
                  "price": 351,
                  "x": 4.21,
                  "y": 4.27,
                  "z": 2.66,
                  "_deepnote_index_column": 19
                },
                {
                  "carat": 0.3,
                  "cut": "Good",
                  "color": "I",
                  "clarity": "SI2",
                  "depth": 63.3,
                  "table": 56,
                  "price": 351,
                  "x": 4.26,
                  "y": 4.3,
                  "z": 2.71,
                  "_deepnote_index_column": 20
                },
                {
                  "carat": 0.23,
                  "cut": "Very Good",
                  "color": "E",
                  "clarity": "VS2",
                  "depth": 63.8,
                  "table": 55,
                  "price": 352,
                  "x": 3.85,
                  "y": 3.92,
                  "z": 2.48,
                  "_deepnote_index_column": 21
                },
                {
                  "carat": 0.23,
                  "cut": "Very Good",
                  "color": "H",
                  "clarity": "VS1",
                  "depth": 61,
                  "table": 57,
                  "price": 353,
                  "x": 3.94,
                  "y": 3.96,
                  "z": 2.41,
                  "_deepnote_index_column": 22
                },
                {
                  "carat": 0.31,
                  "cut": "Very Good",
                  "color": "J",
                  "clarity": "SI1",
                  "depth": 59.4,
                  "table": 62,
                  "price": 353,
                  "x": 4.39,
                  "y": 4.43,
                  "z": 2.62,
                  "_deepnote_index_column": 23
                },
                {
                  "carat": 0.31,
                  "cut": "Very Good",
                  "color": "J",
                  "clarity": "SI1",
                  "depth": 58.1,
                  "table": 62,
                  "price": 353,
                  "x": 4.44,
                  "y": 4.47,
                  "z": 2.59,
                  "_deepnote_index_column": 24
                },
                {
                  "carat": 0.23,
                  "cut": "Very Good",
                  "color": "G",
                  "clarity": "VVS2",
                  "depth": 60.4,
                  "table": 58,
                  "price": 354,
                  "x": 3.97,
                  "y": 4.01,
                  "z": 2.41,
                  "_deepnote_index_column": 25
                },
                {
                  "carat": 0.24,
                  "cut": "Premium",
                  "color": "I",
                  "clarity": "VS1",
                  "depth": 62.5,
                  "table": 57,
                  "price": 355,
                  "x": 3.97,
                  "y": 3.94,
                  "z": 2.47,
                  "_deepnote_index_column": 26
                },
                {
                  "carat": 0.3,
                  "cut": "Very Good",
                  "color": "J",
                  "clarity": "VS2",
                  "depth": 62.2,
                  "table": 57,
                  "price": 357,
                  "x": 4.28,
                  "y": 4.3,
                  "z": 2.67,
                  "_deepnote_index_column": 27
                },
                {
                  "carat": 0.23,
                  "cut": "Very Good",
                  "color": "D",
                  "clarity": "VS2",
                  "depth": 60.5,
                  "table": 61,
                  "price": 357,
                  "x": 3.96,
                  "y": 3.97,
                  "z": 2.4,
                  "_deepnote_index_column": 28
                },
                {
                  "carat": 0.23,
                  "cut": "Very Good",
                  "color": "F",
                  "clarity": "VS1",
                  "depth": 60.9,
                  "table": 57,
                  "price": 357,
                  "x": 3.96,
                  "y": 3.99,
                  "z": 2.42,
                  "_deepnote_index_column": 29
                },
                {
                  "carat": 0.23,
                  "cut": "Very Good",
                  "color": "F",
                  "clarity": "VS1",
                  "depth": 60,
                  "table": 57,
                  "price": 402,
                  "x": 4,
                  "y": 4.03,
                  "z": 2.41,
                  "_deepnote_index_column": 30
                },
                {
                  "carat": 0.23,
                  "cut": "Very Good",
                  "color": "F",
                  "clarity": "VS1",
                  "depth": 59.8,
                  "table": 57,
                  "price": 402,
                  "x": 4.04,
                  "y": 4.06,
                  "z": 2.42,
                  "_deepnote_index_column": 31
                },
                {
                  "carat": 0.23,
                  "cut": "Very Good",
                  "color": "E",
                  "clarity": "VS1",
                  "depth": 60.7,
                  "table": 59,
                  "price": 402,
                  "x": 3.97,
                  "y": 4.01,
                  "z": 2.42,
                  "_deepnote_index_column": 32
                },
                {
                  "carat": 0.23,
                  "cut": "Very Good",
                  "color": "E",
                  "clarity": "VS1",
                  "depth": 59.5,
                  "table": 58,
                  "price": 402,
                  "x": 4.01,
                  "y": 4.06,
                  "z": 2.4,
                  "_deepnote_index_column": 33
                },
                {
                  "carat": 0.23,
                  "cut": "Very Good",
                  "color": "D",
                  "clarity": "VS1",
                  "depth": 61.9,
                  "table": 58,
                  "price": 402,
                  "x": 3.92,
                  "y": 3.96,
                  "z": 2.44,
                  "_deepnote_index_column": 34
                },
                {
                  "carat": 0.23,
                  "cut": "Good",
                  "color": "F",
                  "clarity": "VS1",
                  "depth": 58.2,
                  "table": 59,
                  "price": 402,
                  "x": 4.06,
                  "y": 4.08,
                  "z": 2.37,
                  "_deepnote_index_column": 35
                },
                {
                  "carat": 0.23,
                  "cut": "Good",
                  "color": "E",
                  "clarity": "VS1",
                  "depth": 64.1,
                  "table": 59,
                  "price": 402,
                  "x": 3.83,
                  "y": 3.85,
                  "z": 2.46,
                  "_deepnote_index_column": 36
                },
                {
                  "carat": 0.31,
                  "cut": "Good",
                  "color": "H",
                  "clarity": "SI1",
                  "depth": 64,
                  "table": 54,
                  "price": 402,
                  "x": 4.29,
                  "y": 4.31,
                  "z": 2.75,
                  "_deepnote_index_column": 37
                },
                {
                  "carat": 0.26,
                  "cut": "Very Good",
                  "color": "D",
                  "clarity": "VS2",
                  "depth": 60.8,
                  "table": 59,
                  "price": 403,
                  "x": 4.13,
                  "y": 4.16,
                  "z": 2.52,
                  "_deepnote_index_column": 38
                },
                {
                  "carat": 0.33,
                  "cut": "Ideal",
                  "color": "I",
                  "clarity": "SI2",
                  "depth": 61.8,
                  "table": 55,
                  "price": 403,
                  "x": 4.49,
                  "y": 4.51,
                  "z": 2.78,
                  "_deepnote_index_column": 39
                },
                {
                  "carat": 0.33,
                  "cut": "Ideal",
                  "color": "I",
                  "clarity": "SI2",
                  "depth": 61.2,
                  "table": 56,
                  "price": 403,
                  "x": 4.49,
                  "y": 4.5,
                  "z": 2.75,
                  "_deepnote_index_column": 40
                },
                {
                  "carat": 0.33,
                  "cut": "Ideal",
                  "color": "J",
                  "clarity": "SI1",
                  "depth": 61.1,
                  "table": 56,
                  "price": 403,
                  "x": 4.49,
                  "y": 4.55,
                  "z": 2.76,
                  "_deepnote_index_column": 41
                },
                {
                  "carat": 0.26,
                  "cut": "Good",
                  "color": "D",
                  "clarity": "VS2",
                  "depth": 65.2,
                  "table": 56,
                  "price": 403,
                  "x": 3.99,
                  "y": 4.02,
                  "z": 2.61,
                  "_deepnote_index_column": 42
                },
                {
                  "carat": 0.26,
                  "cut": "Good",
                  "color": "D",
                  "clarity": "VS1",
                  "depth": 58.4,
                  "table": 63,
                  "price": 403,
                  "x": 4.19,
                  "y": 4.24,
                  "z": 2.46,
                  "_deepnote_index_column": 43
                },
                {
                  "carat": 0.32,
                  "cut": "Good",
                  "color": "H",
                  "clarity": "SI2",
                  "depth": 63.1,
                  "table": 56,
                  "price": 403,
                  "x": 4.34,
                  "y": 4.37,
                  "z": 2.75,
                  "_deepnote_index_column": 44
                },
                {
                  "carat": 0.29,
                  "cut": "Premium",
                  "color": "F",
                  "clarity": "SI1",
                  "depth": 62.4,
                  "table": 58,
                  "price": 403,
                  "x": 4.24,
                  "y": 4.26,
                  "z": 2.65,
                  "_deepnote_index_column": 45
                },
                {
                  "carat": 0.32,
                  "cut": "Very Good",
                  "color": "H",
                  "clarity": "SI2",
                  "depth": 61.8,
                  "table": 55,
                  "price": 403,
                  "x": 4.35,
                  "y": 4.42,
                  "z": 2.71,
                  "_deepnote_index_column": 46
                },
                {
                  "carat": 0.32,
                  "cut": "Good",
                  "color": "H",
                  "clarity": "SI2",
                  "depth": 63.8,
                  "table": 56,
                  "price": 403,
                  "x": 4.36,
                  "y": 4.38,
                  "z": 2.79,
                  "_deepnote_index_column": 47
                },
                {
                  "carat": 0.25,
                  "cut": "Very Good",
                  "color": "E",
                  "clarity": "VS2",
                  "depth": 63.3,
                  "table": 60,
                  "price": 404,
                  "x": 4,
                  "y": 4.03,
                  "z": 2.54,
                  "_deepnote_index_column": 48
                },
                {
                  "carat": 0.29,
                  "cut": "Very Good",
                  "color": "H",
                  "clarity": "SI2",
                  "depth": 60.7,
                  "table": 60,
                  "price": 404,
                  "x": 4.33,
                  "y": 4.37,
                  "z": 2.64,
                  "_deepnote_index_column": 49
                }
              ],
              "rows_bottom": [
                {
                  "carat": 0.73,
                  "cut": "Good",
                  "color": "E",
                  "clarity": "SI1",
                  "depth": 57.9,
                  "table": 55,
                  "price": 2749,
                  "x": 6,
                  "y": 5.96,
                  "z": 3.46,
                  "_deepnote_index_column": 53890
                },
                {
                  "carat": 0.56,
                  "cut": "Ideal",
                  "color": "E",
                  "clarity": "VVS1",
                  "depth": 62.1,
                  "table": 56,
                  "price": 2750,
                  "x": 5.28,
                  "y": 5.29,
                  "z": 3.28,
                  "_deepnote_index_column": 53891
                },
                {
                  "carat": 0.7,
                  "cut": "Ideal",
                  "color": "F",
                  "clarity": "VS1",
                  "depth": 62.5,
                  "table": 56,
                  "price": 2751,
                  "x": 5.73,
                  "y": 5.7,
                  "z": 3.57,
                  "_deepnote_index_column": 53892
                },
                {
                  "carat": 0.7,
                  "cut": "Ideal",
                  "color": "F",
                  "clarity": "VS1",
                  "depth": 62,
                  "table": 55,
                  "price": 2751,
                  "x": 5.74,
                  "y": 5.71,
                  "z": 3.55,
                  "_deepnote_index_column": 53893
                },
                {
                  "carat": 0.71,
                  "cut": "Ideal",
                  "color": "G",
                  "clarity": "SI1",
                  "depth": 60.5,
                  "table": 56.4,
                  "price": 2751,
                  "x": 5.76,
                  "y": 5.8,
                  "z": 3.5,
                  "_deepnote_index_column": 53894
                },
                {
                  "carat": 0.7,
                  "cut": "Good",
                  "color": "F",
                  "clarity": "VS1",
                  "depth": 57.8,
                  "table": 61,
                  "price": 2751,
                  "x": 5.83,
                  "y": 5.79,
                  "z": 3.36,
                  "_deepnote_index_column": 53895
                },
                {
                  "carat": 0.83,
                  "cut": "Ideal",
                  "color": "G",
                  "clarity": "SI2",
                  "depth": 62.4,
                  "table": 54,
                  "price": 2751,
                  "x": 6.01,
                  "y": 6.08,
                  "z": 3.77,
                  "_deepnote_index_column": 53896
                },
                {
                  "carat": 1.02,
                  "cut": "Good",
                  "color": "H",
                  "clarity": "I1",
                  "depth": 64.3,
                  "table": 63,
                  "price": 2751,
                  "x": 6.28,
                  "y": 6.23,
                  "z": 4.02,
                  "_deepnote_index_column": 53897
                },
                {
                  "carat": 0.65,
                  "cut": "Very Good",
                  "color": "D",
                  "clarity": "VS1",
                  "depth": 60.8,
                  "table": 57.2,
                  "price": 2752,
                  "x": 5.55,
                  "y": 5.63,
                  "z": 3.4,
                  "_deepnote_index_column": 53898
                },
                {
                  "carat": 0.72,
                  "cut": "Ideal",
                  "color": "H",
                  "clarity": "VVS2",
                  "depth": 62.3,
                  "table": 56,
                  "price": 2752,
                  "x": 5.74,
                  "y": 5.81,
                  "z": 3.6,
                  "_deepnote_index_column": 53899
                },
                {
                  "carat": 0.73,
                  "cut": "Ideal",
                  "color": "H",
                  "clarity": "VS2",
                  "depth": 62.5,
                  "table": 58,
                  "price": 2752,
                  "x": 5.71,
                  "y": 5.75,
                  "z": 3.58,
                  "_deepnote_index_column": 53900
                },
                {
                  "carat": 0.57,
                  "cut": "Premium",
                  "color": "E",
                  "clarity": "VS1",
                  "depth": 61.6,
                  "table": 58,
                  "price": 2753,
                  "x": 5.36,
                  "y": 5.33,
                  "z": 3.29,
                  "_deepnote_index_column": 53901
                },
                {
                  "carat": 0.77,
                  "cut": "Very Good",
                  "color": "E",
                  "clarity": "SI2",
                  "depth": 59.9,
                  "table": 61,
                  "price": 2753,
                  "x": 5.98,
                  "y": 6.01,
                  "z": 3.59,
                  "_deepnote_index_column": 53902
                },
                {
                  "carat": 0.75,
                  "cut": "Very Good",
                  "color": "E",
                  "clarity": "SI1",
                  "depth": 62.9,
                  "table": 57,
                  "price": 2753,
                  "x": 5.79,
                  "y": 5.84,
                  "z": 3.66,
                  "_deepnote_index_column": 53903
                },
                {
                  "carat": 0.7,
                  "cut": "Premium",
                  "color": "E",
                  "clarity": "SI1",
                  "depth": 61.3,
                  "table": 58,
                  "price": 2753,
                  "x": 5.68,
                  "y": 5.71,
                  "z": 3.49,
                  "_deepnote_index_column": 53904
                },
                {
                  "carat": 0.7,
                  "cut": "Premium",
                  "color": "E",
                  "clarity": "SI1",
                  "depth": 60,
                  "table": 59,
                  "price": 2753,
                  "x": 5.75,
                  "y": 5.79,
                  "z": 3.46,
                  "_deepnote_index_column": 53905
                },
                {
                  "carat": 0.75,
                  "cut": "Very Good",
                  "color": "E",
                  "clarity": "SI1",
                  "depth": 63,
                  "table": 55,
                  "price": 2753,
                  "x": 5.76,
                  "y": 5.79,
                  "z": 3.64,
                  "_deepnote_index_column": 53906
                },
                {
                  "carat": 0.7,
                  "cut": "Very Good",
                  "color": "E",
                  "clarity": "SI1",
                  "depth": 61,
                  "table": 57,
                  "price": 2753,
                  "x": 5.68,
                  "y": 5.73,
                  "z": 3.48,
                  "_deepnote_index_column": 53907
                },
                {
                  "carat": 0.7,
                  "cut": "Very Good",
                  "color": "E",
                  "clarity": "SI1",
                  "depth": 61.2,
                  "table": 57,
                  "price": 2753,
                  "x": 5.68,
                  "y": 5.73,
                  "z": 3.49,
                  "_deepnote_index_column": 53908
                },
                {
                  "carat": 0.7,
                  "cut": "Very Good",
                  "color": "E",
                  "clarity": "SI1",
                  "depth": 62.7,
                  "table": 59,
                  "price": 2753,
                  "x": 5.63,
                  "y": 5.67,
                  "z": 3.54,
                  "_deepnote_index_column": 53909
                },
                {
                  "carat": 0.7,
                  "cut": "Premium",
                  "color": "E",
                  "clarity": "SI1",
                  "depth": 60.5,
                  "table": 58,
                  "price": 2753,
                  "x": 5.74,
                  "y": 5.77,
                  "z": 3.48,
                  "_deepnote_index_column": 53910
                },
                {
                  "carat": 0.57,
                  "cut": "Premium",
                  "color": "E",
                  "clarity": "IF",
                  "depth": 59.8,
                  "table": 60,
                  "price": 2753,
                  "x": 5.43,
                  "y": 5.38,
                  "z": 3.23,
                  "_deepnote_index_column": 53911
                },
                {
                  "carat": 0.61,
                  "cut": "Premium",
                  "color": "F",
                  "clarity": "VVS1",
                  "depth": 61.8,
                  "table": 59,
                  "price": 2753,
                  "x": 5.48,
                  "y": 5.4,
                  "z": 3.36,
                  "_deepnote_index_column": 53912
                },
                {
                  "carat": 0.8,
                  "cut": "Good",
                  "color": "G",
                  "clarity": "VS2",
                  "depth": 64.2,
                  "table": 58,
                  "price": 2753,
                  "x": 5.84,
                  "y": 5.81,
                  "z": 3.74,
                  "_deepnote_index_column": 53913
                },
                {
                  "carat": 0.84,
                  "cut": "Good",
                  "color": "I",
                  "clarity": "VS1",
                  "depth": 63.7,
                  "table": 59,
                  "price": 2753,
                  "x": 5.94,
                  "y": 5.9,
                  "z": 3.77,
                  "_deepnote_index_column": 53914
                },
                {
                  "carat": 0.77,
                  "cut": "Ideal",
                  "color": "E",
                  "clarity": "SI2",
                  "depth": 62.1,
                  "table": 56,
                  "price": 2753,
                  "x": 5.84,
                  "y": 5.86,
                  "z": 3.63,
                  "_deepnote_index_column": 53915
                },
                {
                  "carat": 0.74,
                  "cut": "Good",
                  "color": "D",
                  "clarity": "SI1",
                  "depth": 63.1,
                  "table": 59,
                  "price": 2753,
                  "x": 5.71,
                  "y": 5.74,
                  "z": 3.61,
                  "_deepnote_index_column": 53916
                },
                {
                  "carat": 0.9,
                  "cut": "Very Good",
                  "color": "J",
                  "clarity": "SI1",
                  "depth": 63.2,
                  "table": 60,
                  "price": 2753,
                  "x": 6.12,
                  "y": 6.09,
                  "z": 3.86,
                  "_deepnote_index_column": 53917
                },
                {
                  "carat": 0.76,
                  "cut": "Premium",
                  "color": "I",
                  "clarity": "VS1",
                  "depth": 59.3,
                  "table": 62,
                  "price": 2753,
                  "x": 5.93,
                  "y": 5.85,
                  "z": 3.49,
                  "_deepnote_index_column": 53918
                },
                {
                  "carat": 0.76,
                  "cut": "Ideal",
                  "color": "I",
                  "clarity": "VVS1",
                  "depth": 62.2,
                  "table": 55,
                  "price": 2753,
                  "x": 5.89,
                  "y": 5.87,
                  "z": 3.66,
                  "_deepnote_index_column": 53919
                },
                {
                  "carat": 0.7,
                  "cut": "Very Good",
                  "color": "E",
                  "clarity": "VS2",
                  "depth": 62.4,
                  "table": 60,
                  "price": 2755,
                  "x": 5.57,
                  "y": 5.61,
                  "z": 3.49,
                  "_deepnote_index_column": 53920
                },
                {
                  "carat": 0.7,
                  "cut": "Very Good",
                  "color": "E",
                  "clarity": "VS2",
                  "depth": 62.8,
                  "table": 60,
                  "price": 2755,
                  "x": 5.59,
                  "y": 5.65,
                  "z": 3.53,
                  "_deepnote_index_column": 53921
                },
                {
                  "carat": 0.7,
                  "cut": "Very Good",
                  "color": "D",
                  "clarity": "VS1",
                  "depth": 63.1,
                  "table": 59,
                  "price": 2755,
                  "x": 5.67,
                  "y": 5.58,
                  "z": 3.55,
                  "_deepnote_index_column": 53922
                },
                {
                  "carat": 0.73,
                  "cut": "Ideal",
                  "color": "I",
                  "clarity": "VS2",
                  "depth": 61.3,
                  "table": 56,
                  "price": 2756,
                  "x": 5.8,
                  "y": 5.84,
                  "z": 3.57,
                  "_deepnote_index_column": 53923
                },
                {
                  "carat": 0.73,
                  "cut": "Ideal",
                  "color": "I",
                  "clarity": "VS2",
                  "depth": 61.6,
                  "table": 55,
                  "price": 2756,
                  "x": 5.82,
                  "y": 5.84,
                  "z": 3.59,
                  "_deepnote_index_column": 53924
                },
                {
                  "carat": 0.79,
                  "cut": "Ideal",
                  "color": "I",
                  "clarity": "SI1",
                  "depth": 61.6,
                  "table": 56,
                  "price": 2756,
                  "x": 5.95,
                  "y": 5.97,
                  "z": 3.67,
                  "_deepnote_index_column": 53925
                },
                {
                  "carat": 0.71,
                  "cut": "Ideal",
                  "color": "E",
                  "clarity": "SI1",
                  "depth": 61.9,
                  "table": 56,
                  "price": 2756,
                  "x": 5.71,
                  "y": 5.73,
                  "z": 3.54,
                  "_deepnote_index_column": 53926
                },
                {
                  "carat": 0.79,
                  "cut": "Good",
                  "color": "F",
                  "clarity": "SI1",
                  "depth": 58.1,
                  "table": 59,
                  "price": 2756,
                  "x": 6.06,
                  "y": 6.13,
                  "z": 3.54,
                  "_deepnote_index_column": 53927
                },
                {
                  "carat": 0.79,
                  "cut": "Premium",
                  "color": "E",
                  "clarity": "SI2",
                  "depth": 61.4,
                  "table": 58,
                  "price": 2756,
                  "x": 6.03,
                  "y": 5.96,
                  "z": 3.68,
                  "_deepnote_index_column": 53928
                },
                {
                  "carat": 0.71,
                  "cut": "Ideal",
                  "color": "G",
                  "clarity": "VS1",
                  "depth": 61.4,
                  "table": 56,
                  "price": 2756,
                  "x": 5.76,
                  "y": 5.73,
                  "z": 3.53,
                  "_deepnote_index_column": 53929
                },
                {
                  "carat": 0.71,
                  "cut": "Premium",
                  "color": "E",
                  "clarity": "SI1",
                  "depth": 60.5,
                  "table": 55,
                  "price": 2756,
                  "x": 5.79,
                  "y": 5.74,
                  "z": 3.49,
                  "_deepnote_index_column": 53930
                },
                {
                  "carat": 0.71,
                  "cut": "Premium",
                  "color": "F",
                  "clarity": "SI1",
                  "depth": 59.8,
                  "table": 62,
                  "price": 2756,
                  "x": 5.74,
                  "y": 5.73,
                  "z": 3.43,
                  "_deepnote_index_column": 53931
                },
                {
                  "carat": 0.7,
                  "cut": "Very Good",
                  "color": "E",
                  "clarity": "VS2",
                  "depth": 60.5,
                  "table": 59,
                  "price": 2757,
                  "x": 5.71,
                  "y": 5.76,
                  "z": 3.47,
                  "_deepnote_index_column": 53932
                },
                {
                  "carat": 0.7,
                  "cut": "Very Good",
                  "color": "E",
                  "clarity": "VS2",
                  "depth": 61.2,
                  "table": 59,
                  "price": 2757,
                  "x": 5.69,
                  "y": 5.72,
                  "z": 3.49,
                  "_deepnote_index_column": 53933
                },
                {
                  "carat": 0.72,
                  "cut": "Premium",
                  "color": "D",
                  "clarity": "SI1",
                  "depth": 62.7,
                  "table": 59,
                  "price": 2757,
                  "x": 5.69,
                  "y": 5.73,
                  "z": 3.58,
                  "_deepnote_index_column": 53934
                },
                {
                  "carat": 0.72,
                  "cut": "Ideal",
                  "color": "D",
                  "clarity": "SI1",
                  "depth": 60.8,
                  "table": 57,
                  "price": 2757,
                  "x": 5.75,
                  "y": 5.76,
                  "z": 3.5,
                  "_deepnote_index_column": 53935
                },
                {
                  "carat": 0.72,
                  "cut": "Good",
                  "color": "D",
                  "clarity": "SI1",
                  "depth": 63.1,
                  "table": 55,
                  "price": 2757,
                  "x": 5.69,
                  "y": 5.75,
                  "z": 3.61,
                  "_deepnote_index_column": 53936
                },
                {
                  "carat": 0.7,
                  "cut": "Very Good",
                  "color": "D",
                  "clarity": "SI1",
                  "depth": 62.8,
                  "table": 60,
                  "price": 2757,
                  "x": 5.66,
                  "y": 5.68,
                  "z": 3.56,
                  "_deepnote_index_column": 53937
                },
                {
                  "carat": 0.86,
                  "cut": "Premium",
                  "color": "H",
                  "clarity": "SI2",
                  "depth": 61,
                  "table": 58,
                  "price": 2757,
                  "x": 6.15,
                  "y": 6.12,
                  "z": 3.74,
                  "_deepnote_index_column": 53938
                },
                {
                  "carat": 0.75,
                  "cut": "Ideal",
                  "color": "D",
                  "clarity": "SI2",
                  "depth": 62.2,
                  "table": 55,
                  "price": 2757,
                  "x": 5.83,
                  "y": 5.87,
                  "z": 3.64,
                  "_deepnote_index_column": 53939
                }
              ]
            },
            "text/plain": "       carat        cut color clarity  depth  table  price     x     y     z\n0       0.23      Ideal     E     SI2   61.5   55.0    326  3.95  3.98  2.43\n1       0.21    Premium     E     SI1   59.8   61.0    326  3.89  3.84  2.31\n2       0.23       Good     E     VS1   56.9   65.0    327  4.05  4.07  2.31\n3       0.29    Premium     I     VS2   62.4   58.0    334  4.20  4.23  2.63\n4       0.31       Good     J     SI2   63.3   58.0    335  4.34  4.35  2.75\n...      ...        ...   ...     ...    ...    ...    ...   ...   ...   ...\n53935   0.72      Ideal     D     SI1   60.8   57.0   2757  5.75  5.76  3.50\n53936   0.72       Good     D     SI1   63.1   55.0   2757  5.69  5.75  3.61\n53937   0.70  Very Good     D     SI1   62.8   60.0   2757  5.66  5.68  3.56\n53938   0.86    Premium     H     SI2   61.0   58.0   2757  6.15  6.12  3.74\n53939   0.75      Ideal     D     SI2   62.2   55.0   2757  5.83  5.87  3.64\n\n[53940 rows x 10 columns]",
            "text/html": "<div>\n<style scoped>\n    .dataframe tbody tr th:only-of-type {\n        vertical-align: middle;\n    }\n\n    .dataframe tbody tr th {\n        vertical-align: top;\n    }\n\n    .dataframe thead th {\n        text-align: right;\n    }\n</style>\n<table border=\"1\" class=\"dataframe\">\n  <thead>\n    <tr style=\"text-align: right;\">\n      <th></th>\n      <th>carat</th>\n      <th>cut</th>\n      <th>color</th>\n      <th>clarity</th>\n      <th>depth</th>\n      <th>table</th>\n      <th>price</th>\n      <th>x</th>\n      <th>y</th>\n      <th>z</th>\n    </tr>\n  </thead>\n  <tbody>\n    <tr>\n      <th>0</th>\n      <td>0.23</td>\n      <td>Ideal</td>\n      <td>E</td>\n      <td>SI2</td>\n      <td>61.5</td>\n      <td>55.0</td>\n      <td>326</td>\n      <td>3.95</td>\n      <td>3.98</td>\n      <td>2.43</td>\n    </tr>\n    <tr>\n      <th>1</th>\n      <td>0.21</td>\n      <td>Premium</td>\n      <td>E</td>\n      <td>SI1</td>\n      <td>59.8</td>\n      <td>61.0</td>\n      <td>326</td>\n      <td>3.89</td>\n      <td>3.84</td>\n      <td>2.31</td>\n    </tr>\n    <tr>\n      <th>2</th>\n      <td>0.23</td>\n      <td>Good</td>\n      <td>E</td>\n      <td>VS1</td>\n      <td>56.9</td>\n      <td>65.0</td>\n      <td>327</td>\n      <td>4.05</td>\n      <td>4.07</td>\n      <td>2.31</td>\n    </tr>\n    <tr>\n      <th>3</th>\n      <td>0.29</td>\n      <td>Premium</td>\n      <td>I</td>\n      <td>VS2</td>\n      <td>62.4</td>\n      <td>58.0</td>\n      <td>334</td>\n      <td>4.20</td>\n      <td>4.23</td>\n      <td>2.63</td>\n    </tr>\n    <tr>\n      <th>4</th>\n      <td>0.31</td>\n      <td>Good</td>\n      <td>J</td>\n      <td>SI2</td>\n      <td>63.3</td>\n      <td>58.0</td>\n      <td>335</td>\n      <td>4.34</td>\n      <td>4.35</td>\n      <td>2.75</td>\n    </tr>\n    <tr>\n      <th>...</th>\n      <td>...</td>\n      <td>...</td>\n      <td>...</td>\n      <td>...</td>\n      <td>...</td>\n      <td>...</td>\n      <td>...</td>\n      <td>...</td>\n      <td>...</td>\n      <td>...</td>\n    </tr>\n    <tr>\n      <th>53935</th>\n      <td>0.72</td>\n      <td>Ideal</td>\n      <td>D</td>\n      <td>SI1</td>\n      <td>60.8</td>\n      <td>57.0</td>\n      <td>2757</td>\n      <td>5.75</td>\n      <td>5.76</td>\n      <td>3.50</td>\n    </tr>\n    <tr>\n      <th>53936</th>\n      <td>0.72</td>\n      <td>Good</td>\n      <td>D</td>\n      <td>SI1</td>\n      <td>63.1</td>\n      <td>55.0</td>\n      <td>2757</td>\n      <td>5.69</td>\n      <td>5.75</td>\n      <td>3.61</td>\n    </tr>\n    <tr>\n      <th>53937</th>\n      <td>0.70</td>\n      <td>Very Good</td>\n      <td>D</td>\n      <td>SI1</td>\n      <td>62.8</td>\n      <td>60.0</td>\n      <td>2757</td>\n      <td>5.66</td>\n      <td>5.68</td>\n      <td>3.56</td>\n    </tr>\n    <tr>\n      <th>53938</th>\n      <td>0.86</td>\n      <td>Premium</td>\n      <td>H</td>\n      <td>SI2</td>\n      <td>61.0</td>\n      <td>58.0</td>\n      <td>2757</td>\n      <td>6.15</td>\n      <td>6.12</td>\n      <td>3.74</td>\n    </tr>\n    <tr>\n      <th>53939</th>\n      <td>0.75</td>\n      <td>Ideal</td>\n      <td>D</td>\n      <td>SI2</td>\n      <td>62.2</td>\n      <td>55.0</td>\n      <td>2757</td>\n      <td>5.83</td>\n      <td>5.87</td>\n      <td>3.64</td>\n    </tr>\n  </tbody>\n</table>\n<p>53940 rows × 10 columns</p>\n</div>"
          },
          "metadata": {}
        }
      ]
    },
    {
      "cell_type": "code",
      "metadata": {
        "tags": [],
        "cell_id": "00001-3c670c84-9037-4099-adac-a15ea9f9dbf9",
        "deepnote_to_be_reexecuted": false,
        "source_hash": "9630058e",
        "execution_millis": 14,
        "execution_start": 1614981786612,
        "deepnote_cell_type": "code"
      },
      "source": "data.isna().sum().sum()",
      "execution_count": 2,
      "outputs": [
        {
          "output_type": "execute_result",
          "execution_count": 2,
          "data": {
            "text/plain": "0"
          },
          "metadata": {}
        }
      ]
    },
    {
      "cell_type": "code",
      "metadata": {
        "tags": [],
        "cell_id": "00001-c831f8fe-669a-4f2c-8520-02e6a31239ce",
        "deepnote_to_be_reexecuted": false,
        "source_hash": "d359ffbf",
        "execution_millis": 14,
        "execution_start": 1614981786623,
        "deepnote_cell_type": "code"
      },
      "source": "X = data.copy()\ny = X.pop('price')\n\ncat_col = X.select_dtypes(include=['object']).columns.to_list()\nnum_col = X.select_dtypes(exclude=['object']).columns.to_list()\n",
      "execution_count": 3,
      "outputs": []
    },
    {
      "cell_type": "code",
      "metadata": {
        "tags": [],
        "cell_id": "00002-edb4b724-3755-41bc-a8d5-8a46b785777e",
        "deepnote_to_be_reexecuted": false,
        "source_hash": "5506624e",
        "execution_millis": 3953,
        "execution_start": 1614981786638,
        "deepnote_cell_type": "code"
      },
      "source": "from sklearn.model_selection import train_test_split\nfrom sklearn.preprocessing import StandardScaler,OneHotEncoder\nfrom sklearn.compose import make_column_selector,make_column_transformer\n\nfrom tensorflow import keras\nfrom tensorflow.keras.layers import Dense,Dropout,BatchNormalization\nfrom tensorflow.keras.models import Sequential",
      "execution_count": 4,
      "outputs": []
    },
    {
      "cell_type": "code",
      "metadata": {
        "tags": [],
        "cell_id": "00004-7d3e6400-617f-4d8a-807c-d1af4659ef3c",
        "deepnote_to_be_reexecuted": false,
        "source_hash": "8d8fffbd",
        "execution_millis": 10,
        "execution_start": 1614981790595,
        "deepnote_cell_type": "code"
      },
      "source": "preprocessor = make_column_transformer(\n    (StandardScaler(),num_col),\n    (OneHotEncoder(),cat_col)\n)\npreprocessor",
      "execution_count": 5,
      "outputs": [
        {
          "output_type": "execute_result",
          "execution_count": 5,
          "data": {
            "text/plain": "ColumnTransformer(transformers=[('standardscaler', StandardScaler(),\n                                 ['carat', 'depth', 'table', 'x', 'y', 'z']),\n                                ('onehotencoder', OneHotEncoder(),\n                                 ['cut', 'color', 'clarity'])])"
          },
          "metadata": {}
        }
      ]
    },
    {
      "cell_type": "code",
      "metadata": {
        "tags": [],
        "cell_id": "00005-3c52490e-693b-4f96-9090-a480f2cb86a9",
        "deepnote_to_be_reexecuted": false,
        "source_hash": "81f00023",
        "execution_millis": 61,
        "execution_start": 1614981790608,
        "deepnote_cell_type": "code"
      },
      "source": "#X_train,X_test,y_train,y_test = train_test_split(X,y,test_size=0.3)\n\n\nX = preprocessor.fit_transform(X)\n#X_test = preprocessor.transform(X_test)\n",
      "execution_count": 6,
      "outputs": []
    },
    {
      "cell_type": "code",
      "metadata": {
        "tags": [],
        "cell_id": "00005-89303fce-1bb3-493c-8083-953ada35e046",
        "deepnote_to_be_reexecuted": false,
        "source_hash": "8871ae60",
        "execution_millis": 4,
        "execution_start": 1614981813699,
        "deepnote_cell_type": "code"
      },
      "source": "model = Sequential([\n    Dense(100,activation = 'relu',input_shape = [26]),\n    Dense(200,activation = 'relu'),\n    Dense(50,activation = 'relu'),\n    Dense(1)\n])\nmodel.summary()",
      "execution_count": 9,
      "outputs": [
        {
          "name": "stdout",
          "text": "Model: \"sequential_1\"\n_________________________________________________________________\nLayer (type)                 Output Shape              Param #   \n=================================================================\ndense_4 (Dense)              (None, 100)               2700      \n_________________________________________________________________\ndense_5 (Dense)              (None, 200)               20200     \n_________________________________________________________________\ndense_6 (Dense)              (None, 50)                10050     \n_________________________________________________________________\ndense_7 (Dense)              (None, 1)                 51        \n=================================================================\nTotal params: 33,001\nTrainable params: 33,001\nNon-trainable params: 0\n_________________________________________________________________\n",
          "output_type": "stream"
        }
      ]
    },
    {
      "cell_type": "code",
      "metadata": {
        "tags": [],
        "cell_id": "00006-f59b587f-4814-447f-b86e-fb7e708e157c",
        "deepnote_to_be_reexecuted": false,
        "source_hash": "e0b048e6",
        "execution_millis": 27641,
        "execution_start": 1614981816199,
        "deepnote_cell_type": "code"
      },
      "source": "model.compile(loss='mae',optimizer = 'adam')\nModel = model.fit(X,y,batch_size = 32,epochs = 10)",
      "execution_count": 10,
      "outputs": [
        {
          "name": "stdout",
          "text": "Epoch 1/10\n1686/1686 [==============================] - 3s 2ms/step - loss: 1383.0551\nEpoch 2/10\n1686/1686 [==============================] - 3s 2ms/step - loss: 374.8825\nEpoch 3/10\n1686/1686 [==============================] - 3s 2ms/step - loss: 342.3111\nEpoch 4/10\n1686/1686 [==============================] - 3s 2ms/step - loss: 325.7828\nEpoch 5/10\n1686/1686 [==============================] - 3s 2ms/step - loss: 322.7003\nEpoch 6/10\n1686/1686 [==============================] - 3s 2ms/step - loss: 320.4866\nEpoch 7/10\n1686/1686 [==============================] - 3s 2ms/step - loss: 316.2636\nEpoch 8/10\n1686/1686 [==============================] - 3s 2ms/step - loss: 307.4827\nEpoch 9/10\n1686/1686 [==============================] - 3s 2ms/step - loss: 308.9164\nEpoch 10/10\n1686/1686 [==============================] - 3s 2ms/step - loss: 308.8852\n",
          "output_type": "stream"
        }
      ]
    },
    {
      "cell_type": "code",
      "metadata": {
        "tags": [],
        "cell_id": "00008-e99256c5-a916-4e41-92ec-04930a580f38",
        "deepnote_to_be_reexecuted": false,
        "source_hash": "d513e558",
        "execution_millis": 6,
        "execution_start": 1614981866147,
        "deepnote_cell_type": "code"
      },
      "source": "Model.history",
      "execution_count": 11,
      "outputs": [
        {
          "output_type": "execute_result",
          "execution_count": 11,
          "data": {
            "text/plain": "{'loss': [740.0073852539062,\n  365.8971862792969,\n  338.9905090332031,\n  328.9300231933594,\n  320.5881652832031,\n  316.25433349609375,\n  313.45684814453125,\n  309.8350524902344,\n  307.9624328613281,\n  305.3404846191406]}"
          },
          "metadata": {}
        }
      ]
    },
    {
      "cell_type": "markdown",
      "source": "<a style='text-decoration:none;line-height:16px;display:flex;color:#5B5B62;padding:10px;justify-content:end;' href='https://deepnote.com?utm_source=created-in-deepnote-cell&projectId=88190736-eb57-4922-a018-2ff5a44a7537' target=\"_blank\">\n<img style='display:inline;max-height:16px;margin:0px;margin-right:7.5px;' src='data:image/svg+xml;base64,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' > </img>\nCreated in <span style='font-weight:600;margin-left:4px;'>Deepnote</span></a>",
      "metadata": {
        "tags": [],
        "created_in_deepnote_cell": true,
        "deepnote_cell_type": "markdown"
      }
    }
  ],
  "nbformat": 4,
  "nbformat_minor": 2,
  "metadata": {
    "orig_nbformat": 2,
    "deepnote_notebook_id": "dc93427e-3d67-4916-993b-be44b6c8bc19",
    "deepnote": {},
    "deepnote_execution_queue": []
  }
}