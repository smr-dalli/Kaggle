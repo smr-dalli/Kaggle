{
  "cells": [
    {
      "cell_type": "code",
      "metadata": {
        "tags": [],
        "cell_id": "00000-2f5a45a1-9ad2-4b67-a642-665988ef1a78",
        "deepnote_to_be_reexecuted": false,
        "source_hash": "ab8f8371",
        "execution_millis": 1,
        "execution_start": 1614887535371,
        "deepnote_cell_type": "code"
      },
      "source": "import pandas as pd\nfrom IPython.display import display\nfrom tensorflow import keras\nfrom tensorflow.keras.layers import Dense,Dropout,BatchNormalization\nfrom tensorflow.keras.models import Sequential\nfrom tensorflow.keras.callbacks import EarlyStopping ",
      "execution_count": 53,
      "outputs": []
    },
    {
      "cell_type": "code",
      "metadata": {
        "tags": [],
        "cell_id": "00000-e2e1268c-11b3-47fb-b341-c96c463074da",
        "deepnote_to_be_reexecuted": false,
        "source_hash": "495c1ef3",
        "execution_millis": 45088,
        "execution_start": 1614888365866,
        "deepnote_cell_type": "code"
      },
      "source": "# Start writing code here...\n\ndata = pd.read_csv('red-wine.csv')\n\n##split\ntrain = data.sample(frac = 0.7,random_state = 0)\nvalid = data.drop(train.index)\n\n## scaling \n# max_ = train.max(axis = 0)\n# min_ = train.min(axis = 0)\n\n# train = (train - min_) / (max_ - min_)\n# valid = (valid - min_) / (max_ - min_)\n\n##train and test\nX_train = train.drop('quality',axis = 1)\nX_test = valid.drop('quality',axis = 1)\n\ny_train = train.quality\ny_test  = valid.quality\n\n##model\n\nmodel = Sequential([BatchNormalization(input_shape = [11]),\n    Dense(1024,activation='relu'),\n    Dropout(0.3),\n    BatchNormalization(),\n    Dense(1024,activation= 'relu'),\n    Dropout(0.3),\n    BatchNormalization(),\n    Dense(1024,activation='relu'),\n    Dropout(0.3),\n    BatchNormalization(),\n    Dense(1)\n    ])\n\nmodel.compile(loss= 'mse',optimizer = 'adam')\nearly_stopping = EarlyStopping(min_delta=0.001,patience=20,restore_best_weights=True)\nred_wine = model.fit(X_train,y_train,validation_data=(X_test,y_test),batch_size = 256,\nepochs = 100,verbose = 0)\n\n\n\n\n\n\n\n\n",
      "execution_count": 69,
      "outputs": []
    },
    {
      "cell_type": "code",
      "metadata": {
        "tags": [],
        "cell_id": "00002-333165ee-8586-410b-be61-b2e8f46280ff",
        "deepnote_to_be_reexecuted": false,
        "source_hash": "66902763",
        "execution_millis": 8,
        "execution_start": 1614888427943,
        "deepnote_cell_type": "code"
      },
      "source": "final_data = pd.DataFrame(red_wine.history)\nfinal_data",
      "execution_count": 70,
      "outputs": [
        {
          "output_type": "execute_result",
          "execution_count": 70,
          "data": {
            "application/vnd.deepnote.dataframe.v2+json": {
              "row_count": 100,
              "column_count": 2,
              "columns": [
                {
                  "name": "loss",
                  "dtype": "float64",
                  "stats": {
                    "unique_count": 100,
                    "nan_count": 0,
                    "min": 0.9465944170951843,
                    "max": 39.25039291381836,
                    "histogram": [
                      {
                        "bin_start": 0.9465944170951843,
                        "bin_end": 4.7769742667675015,
                        "count": 84
                      },
                      {
                        "bin_start": 4.7769742667675015,
                        "bin_end": 8.607354116439819,
                        "count": 3
                      },
                      {
                        "bin_start": 8.607354116439819,
                        "bin_end": 12.437733966112138,
                        "count": 2
                      },
                      {
                        "bin_start": 12.437733966112138,
                        "bin_end": 16.268113815784453,
                        "count": 2
                      },
                      {
                        "bin_start": 16.268113815784453,
                        "bin_end": 20.098493665456772,
                        "count": 2
                      },
                      {
                        "bin_start": 20.098493665456772,
                        "bin_end": 23.92887351512909,
                        "count": 2
                      },
                      {
                        "bin_start": 23.92887351512909,
                        "bin_end": 27.759253364801406,
                        "count": 2
                      },
                      {
                        "bin_start": 27.759253364801406,
                        "bin_end": 31.589633214473725,
                        "count": 1
                      },
                      {
                        "bin_start": 31.589633214473725,
                        "bin_end": 35.42001306414604,
                        "count": 1
                      },
                      {
                        "bin_start": 35.42001306414604,
                        "bin_end": 39.25039291381836,
                        "count": 1
                      }
                    ]
                  }
                },
                {
                  "name": "val_loss",
                  "dtype": "float64",
                  "stats": {
                    "unique_count": 100,
                    "nan_count": 0,
                    "min": 0.4115854799747467,
                    "max": 31.628990173339844,
                    "histogram": [
                      {
                        "bin_start": 0.4115854799747467,
                        "bin_end": 3.5333259493112563,
                        "count": 86
                      },
                      {
                        "bin_start": 3.5333259493112563,
                        "bin_end": 6.655066418647766,
                        "count": 2
                      },
                      {
                        "bin_start": 6.655066418647766,
                        "bin_end": 9.776806887984275,
                        "count": 2
                      },
                      {
                        "bin_start": 9.776806887984275,
                        "bin_end": 12.898547357320785,
                        "count": 1
                      },
                      {
                        "bin_start": 12.898547357320785,
                        "bin_end": 16.020287826657295,
                        "count": 1
                      },
                      {
                        "bin_start": 16.020287826657295,
                        "bin_end": 19.142028295993804,
                        "count": 2
                      },
                      {
                        "bin_start": 19.142028295993804,
                        "bin_end": 22.263768765330315,
                        "count": 3
                      },
                      {
                        "bin_start": 22.263768765330315,
                        "bin_end": 25.385509234666824,
                        "count": 2
                      },
                      {
                        "bin_start": 25.385509234666824,
                        "bin_end": 28.507249704003332,
                        "count": 0
                      },
                      {
                        "bin_start": 28.507249704003332,
                        "bin_end": 31.628990173339844,
                        "count": 1
                      }
                    ]
                  }
                },
                {
                  "name": "_deepnote_index_column",
                  "dtype": "int64"
                }
              ],
              "rows_top": [
                {
                  "loss": 39.25039291381836,
                  "val_loss": 31.628990173339844,
                  "_deepnote_index_column": 0
                },
                {
                  "loss": 31.95881462097168,
                  "val_loss": 20.311792373657227,
                  "_deepnote_index_column": 1
                },
                {
                  "loss": 29.59316635131836,
                  "val_loss": 23.24301528930664,
                  "_deepnote_index_column": 2
                },
                {
                  "loss": 27.36886215209961,
                  "val_loss": 23.86894416809082,
                  "_deepnote_index_column": 3
                },
                {
                  "loss": 25.423702239990234,
                  "val_loss": 17.496854782104492,
                  "_deepnote_index_column": 4
                },
                {
                  "loss": 23.557044982910156,
                  "val_loss": 20.960336685180664,
                  "_deepnote_index_column": 5
                },
                {
                  "loss": 21.915882110595703,
                  "val_loss": 18.16268539428711,
                  "_deepnote_index_column": 6
                },
                {
                  "loss": 19.74751853942871,
                  "val_loss": 19.539730072021484,
                  "_deepnote_index_column": 7
                },
                {
                  "loss": 17.832763671875,
                  "val_loss": 12.229084968566895,
                  "_deepnote_index_column": 8
                },
                {
                  "loss": 15.565353393554688,
                  "val_loss": 15.224872589111328,
                  "_deepnote_index_column": 9
                },
                {
                  "loss": 13.461793899536133,
                  "val_loss": 9.349780082702637,
                  "_deepnote_index_column": 10
                },
                {
                  "loss": 11.307426452636719,
                  "val_loss": 8.634705543518066,
                  "_deepnote_index_column": 11
                },
                {
                  "loss": 9.040912628173828,
                  "val_loss": 5.999842643737793,
                  "_deepnote_index_column": 12
                },
                {
                  "loss": 7.47974967956543,
                  "val_loss": 5.486892223358154,
                  "_deepnote_index_column": 13
                },
                {
                  "loss": 5.7770586013793945,
                  "val_loss": 2.4950244426727295,
                  "_deepnote_index_column": 14
                },
                {
                  "loss": 5.091095924377441,
                  "val_loss": 0.7636891603469849,
                  "_deepnote_index_column": 15
                },
                {
                  "loss": 3.9359400272369385,
                  "val_loss": 1.294414758682251,
                  "_deepnote_index_column": 16
                },
                {
                  "loss": 3.707659959793091,
                  "val_loss": 1.0791698694229126,
                  "_deepnote_index_column": 17
                },
                {
                  "loss": 3.5273385047912598,
                  "val_loss": 0.7641705870628357,
                  "_deepnote_index_column": 18
                },
                {
                  "loss": 3.1373941898345947,
                  "val_loss": 0.8923685550689697,
                  "_deepnote_index_column": 19
                },
                {
                  "loss": 3.261383295059204,
                  "val_loss": 0.8910630941390991,
                  "_deepnote_index_column": 20
                },
                {
                  "loss": 3.5470023155212402,
                  "val_loss": 0.992406964302063,
                  "_deepnote_index_column": 21
                },
                {
                  "loss": 2.9944567680358887,
                  "val_loss": 1.368098497390747,
                  "_deepnote_index_column": 22
                },
                {
                  "loss": 2.95770525932312,
                  "val_loss": 0.8618414998054504,
                  "_deepnote_index_column": 23
                },
                {
                  "loss": 2.8577208518981934,
                  "val_loss": 1.1691728830337524,
                  "_deepnote_index_column": 24
                },
                {
                  "loss": 3.324890613555908,
                  "val_loss": 1.2980560064315796,
                  "_deepnote_index_column": 25
                },
                {
                  "loss": 2.925682306289673,
                  "val_loss": 1.189185380935669,
                  "_deepnote_index_column": 26
                },
                {
                  "loss": 2.6911826133728027,
                  "val_loss": 0.8517420887947083,
                  "_deepnote_index_column": 27
                },
                {
                  "loss": 2.067938804626465,
                  "val_loss": 0.8888469934463501,
                  "_deepnote_index_column": 28
                },
                {
                  "loss": 2.2204644680023193,
                  "val_loss": 0.9916697144508362,
                  "_deepnote_index_column": 29
                },
                {
                  "loss": 2.248995304107666,
                  "val_loss": 0.8803099393844604,
                  "_deepnote_index_column": 30
                },
                {
                  "loss": 2.3824851512908936,
                  "val_loss": 0.7858856320381165,
                  "_deepnote_index_column": 31
                },
                {
                  "loss": 2.1503381729125977,
                  "val_loss": 0.6070643663406372,
                  "_deepnote_index_column": 32
                },
                {
                  "loss": 2.17375111579895,
                  "val_loss": 0.6014257073402405,
                  "_deepnote_index_column": 33
                },
                {
                  "loss": 1.9334951639175415,
                  "val_loss": 0.8525915145874023,
                  "_deepnote_index_column": 34
                },
                {
                  "loss": 1.9352163076400757,
                  "val_loss": 0.7336045503616333,
                  "_deepnote_index_column": 35
                },
                {
                  "loss": 2.146881103515625,
                  "val_loss": 0.7257360219955444,
                  "_deepnote_index_column": 36
                },
                {
                  "loss": 1.8590065240859985,
                  "val_loss": 0.63116455078125,
                  "_deepnote_index_column": 37
                },
                {
                  "loss": 1.6645665168762207,
                  "val_loss": 0.5688682794570923,
                  "_deepnote_index_column": 38
                },
                {
                  "loss": 1.7268792390823364,
                  "val_loss": 0.9135096073150635,
                  "_deepnote_index_column": 39
                },
                {
                  "loss": 1.8603938817977905,
                  "val_loss": 0.6687285304069519,
                  "_deepnote_index_column": 40
                },
                {
                  "loss": 1.9196646213531494,
                  "val_loss": 0.530682384967804,
                  "_deepnote_index_column": 41
                },
                {
                  "loss": 1.9517810344696045,
                  "val_loss": 0.7465388178825378,
                  "_deepnote_index_column": 42
                },
                {
                  "loss": 1.7565665245056152,
                  "val_loss": 0.6061265468597412,
                  "_deepnote_index_column": 43
                },
                {
                  "loss": 1.5497629642486572,
                  "val_loss": 0.5834624767303467,
                  "_deepnote_index_column": 44
                },
                {
                  "loss": 1.7780064344406128,
                  "val_loss": 0.530343234539032,
                  "_deepnote_index_column": 45
                },
                {
                  "loss": 1.689525842666626,
                  "val_loss": 0.5652095675468445,
                  "_deepnote_index_column": 46
                },
                {
                  "loss": 1.650469422340393,
                  "val_loss": 0.5739931464195251,
                  "_deepnote_index_column": 47
                },
                {
                  "loss": 1.6842188835144043,
                  "val_loss": 0.6466780304908752,
                  "_deepnote_index_column": 48
                },
                {
                  "loss": 1.5240845680236816,
                  "val_loss": 0.5054359436035156,
                  "_deepnote_index_column": 49
                },
                {
                  "loss": 1.8330010175704956,
                  "val_loss": 0.5235199332237244,
                  "_deepnote_index_column": 50
                },
                {
                  "loss": 1.38564133644104,
                  "val_loss": 0.480918824672699,
                  "_deepnote_index_column": 51
                },
                {
                  "loss": 1.5207797288894653,
                  "val_loss": 0.5591283440589905,
                  "_deepnote_index_column": 52
                },
                {
                  "loss": 1.5687973499298096,
                  "val_loss": 0.5329777598381042,
                  "_deepnote_index_column": 53
                },
                {
                  "loss": 1.4018515348434448,
                  "val_loss": 0.5017940998077393,
                  "_deepnote_index_column": 54
                },
                {
                  "loss": 1.5282723903656006,
                  "val_loss": 0.5389977693557739,
                  "_deepnote_index_column": 55
                },
                {
                  "loss": 1.536096453666687,
                  "val_loss": 0.5367750525474548,
                  "_deepnote_index_column": 56
                },
                {
                  "loss": 1.3903069496154785,
                  "val_loss": 0.5277513265609741,
                  "_deepnote_index_column": 57
                },
                {
                  "loss": 1.3290380239486694,
                  "val_loss": 0.5269368886947632,
                  "_deepnote_index_column": 58
                },
                {
                  "loss": 1.5866457223892212,
                  "val_loss": 0.49140188097953796,
                  "_deepnote_index_column": 59
                },
                {
                  "loss": 1.740425705909729,
                  "val_loss": 0.6531240344047546,
                  "_deepnote_index_column": 60
                },
                {
                  "loss": 1.547121286392212,
                  "val_loss": 0.5922269225120544,
                  "_deepnote_index_column": 61
                },
                {
                  "loss": 1.4460147619247437,
                  "val_loss": 0.5652586221694946,
                  "_deepnote_index_column": 62
                },
                {
                  "loss": 1.332663655281067,
                  "val_loss": 0.5225183367729187,
                  "_deepnote_index_column": 63
                },
                {
                  "loss": 1.3153846263885498,
                  "val_loss": 0.5397098660469055,
                  "_deepnote_index_column": 64
                },
                {
                  "loss": 1.4269533157348633,
                  "val_loss": 0.47611719369888306,
                  "_deepnote_index_column": 65
                },
                {
                  "loss": 1.3173190355300903,
                  "val_loss": 0.524533212184906,
                  "_deepnote_index_column": 66
                },
                {
                  "loss": 1.1742862462997437,
                  "val_loss": 0.4816616475582123,
                  "_deepnote_index_column": 67
                },
                {
                  "loss": 1.332078456878662,
                  "val_loss": 0.5229743123054504,
                  "_deepnote_index_column": 68
                },
                {
                  "loss": 1.388137698173523,
                  "val_loss": 0.46999719738960266,
                  "_deepnote_index_column": 69
                },
                {
                  "loss": 1.2655346393585205,
                  "val_loss": 0.47872549295425415,
                  "_deepnote_index_column": 70
                },
                {
                  "loss": 1.2895231246948242,
                  "val_loss": 0.5536693930625916,
                  "_deepnote_index_column": 71
                },
                {
                  "loss": 1.4001203775405884,
                  "val_loss": 0.49917376041412354,
                  "_deepnote_index_column": 72
                },
                {
                  "loss": 1.134623408317566,
                  "val_loss": 0.453667551279068,
                  "_deepnote_index_column": 73
                },
                {
                  "loss": 1.1937930583953857,
                  "val_loss": 0.4673067629337311,
                  "_deepnote_index_column": 74
                },
                {
                  "loss": 1.0583277940750122,
                  "val_loss": 0.4633840024471283,
                  "_deepnote_index_column": 75
                },
                {
                  "loss": 1.2651540040969849,
                  "val_loss": 0.49501097202301025,
                  "_deepnote_index_column": 76
                },
                {
                  "loss": 1.2437454462051392,
                  "val_loss": 0.5076644420623779,
                  "_deepnote_index_column": 77
                },
                {
                  "loss": 1.1486742496490479,
                  "val_loss": 0.4655472934246063,
                  "_deepnote_index_column": 78
                },
                {
                  "loss": 1.0905840396881104,
                  "val_loss": 0.4526563286781311,
                  "_deepnote_index_column": 79
                },
                {
                  "loss": 1.1186354160308838,
                  "val_loss": 0.47631576657295227,
                  "_deepnote_index_column": 80
                },
                {
                  "loss": 1.174415946006775,
                  "val_loss": 0.46807023882865906,
                  "_deepnote_index_column": 81
                },
                {
                  "loss": 1.0926074981689453,
                  "val_loss": 0.42901134490966797,
                  "_deepnote_index_column": 82
                },
                {
                  "loss": 1.1766749620437622,
                  "val_loss": 0.49656400084495544,
                  "_deepnote_index_column": 83
                },
                {
                  "loss": 1.0987071990966797,
                  "val_loss": 0.4472064971923828,
                  "_deepnote_index_column": 84
                },
                {
                  "loss": 1.0323926210403442,
                  "val_loss": 0.4420451819896698,
                  "_deepnote_index_column": 85
                },
                {
                  "loss": 0.9859719276428223,
                  "val_loss": 0.4511313736438751,
                  "_deepnote_index_column": 86
                },
                {
                  "loss": 1.2122180461883545,
                  "val_loss": 0.46724846959114075,
                  "_deepnote_index_column": 87
                },
                {
                  "loss": 1.0872128009796143,
                  "val_loss": 0.46332117915153503,
                  "_deepnote_index_column": 88
                },
                {
                  "loss": 1.0769778490066528,
                  "val_loss": 0.4305057227611542,
                  "_deepnote_index_column": 89
                },
                {
                  "loss": 1.130757212638855,
                  "val_loss": 0.4115854799747467,
                  "_deepnote_index_column": 90
                },
                {
                  "loss": 1.1485596895217896,
                  "val_loss": 0.5236921906471252,
                  "_deepnote_index_column": 91
                },
                {
                  "loss": 1.0333993434906006,
                  "val_loss": 0.4803260266780853,
                  "_deepnote_index_column": 92
                },
                {
                  "loss": 1.0413857698440552,
                  "val_loss": 0.5283151865005493,
                  "_deepnote_index_column": 93
                },
                {
                  "loss": 1.1403785943984985,
                  "val_loss": 0.4710007309913635,
                  "_deepnote_index_column": 94
                },
                {
                  "loss": 0.9465944170951843,
                  "val_loss": 0.4178973138332367,
                  "_deepnote_index_column": 95
                },
                {
                  "loss": 0.9479870200157166,
                  "val_loss": 0.49016568064689636,
                  "_deepnote_index_column": 96
                },
                {
                  "loss": 1.1416031122207642,
                  "val_loss": 0.4788697361946106,
                  "_deepnote_index_column": 97
                },
                {
                  "loss": 0.9980923533439636,
                  "val_loss": 0.4889383316040039,
                  "_deepnote_index_column": 98
                },
                {
                  "loss": 1.1936618089675903,
                  "val_loss": 0.4410170316696167,
                  "_deepnote_index_column": 99
                }
              ],
              "rows_bottom": null
            },
            "text/plain": "         loss   val_loss\n0   39.250393  31.628990\n1   31.958815  20.311792\n2   29.593166  23.243015\n3   27.368862  23.868944\n4   25.423702  17.496855\n..        ...        ...\n95   0.946594   0.417897\n96   0.947987   0.490166\n97   1.141603   0.478870\n98   0.998092   0.488938\n99   1.193662   0.441017\n\n[100 rows x 2 columns]",
            "text/html": "<div>\n<style scoped>\n    .dataframe tbody tr th:only-of-type {\n        vertical-align: middle;\n    }\n\n    .dataframe tbody tr th {\n        vertical-align: top;\n    }\n\n    .dataframe thead th {\n        text-align: right;\n    }\n</style>\n<table border=\"1\" class=\"dataframe\">\n  <thead>\n    <tr style=\"text-align: right;\">\n      <th></th>\n      <th>loss</th>\n      <th>val_loss</th>\n    </tr>\n  </thead>\n  <tbody>\n    <tr>\n      <th>0</th>\n      <td>39.250393</td>\n      <td>31.628990</td>\n    </tr>\n    <tr>\n      <th>1</th>\n      <td>31.958815</td>\n      <td>20.311792</td>\n    </tr>\n    <tr>\n      <th>2</th>\n      <td>29.593166</td>\n      <td>23.243015</td>\n    </tr>\n    <tr>\n      <th>3</th>\n      <td>27.368862</td>\n      <td>23.868944</td>\n    </tr>\n    <tr>\n      <th>4</th>\n      <td>25.423702</td>\n      <td>17.496855</td>\n    </tr>\n    <tr>\n      <th>...</th>\n      <td>...</td>\n      <td>...</td>\n    </tr>\n    <tr>\n      <th>95</th>\n      <td>0.946594</td>\n      <td>0.417897</td>\n    </tr>\n    <tr>\n      <th>96</th>\n      <td>0.947987</td>\n      <td>0.490166</td>\n    </tr>\n    <tr>\n      <th>97</th>\n      <td>1.141603</td>\n      <td>0.478870</td>\n    </tr>\n    <tr>\n      <th>98</th>\n      <td>0.998092</td>\n      <td>0.488938</td>\n    </tr>\n    <tr>\n      <th>99</th>\n      <td>1.193662</td>\n      <td>0.441017</td>\n    </tr>\n  </tbody>\n</table>\n<p>100 rows × 2 columns</p>\n</div>"
          },
          "metadata": {}
        }
      ]
    },
    {
      "cell_type": "code",
      "metadata": {
        "tags": [],
        "cell_id": "00003-c7987571-9e49-4688-ab49-de8077788775",
        "deepnote_to_be_reexecuted": false,
        "source_hash": "92a9168",
        "execution_millis": 204,
        "execution_start": 1614888430624,
        "deepnote_cell_type": "code"
      },
      "source": "import matplotlib.pyplot as plt\nfinal_data.loc[:,['loss','val_loss']].plot()\nplt.xlabel('Epochs')\nplt.ylabel('loss of each epochs')",
      "execution_count": 71,
      "outputs": [
        {
          "output_type": "execute_result",
          "execution_count": 71,
          "data": {
            "text/plain": "Text(0, 0.5, 'loss of each epochs')"
          },
          "metadata": {}
        },
        {
          "data": {
            "text/plain": "<Figure size 432x288 with 1 Axes>",
            "image/png": "[encoded data removed]"
          },
          "metadata": {
            "needs_background": "light"
          },
          "output_type": "display_data"
        }
      ]
    },
    {
      "cell_type": "code",
      "source": "print(f'mininmum validation loss: {final_data.val_loss.min()}')",
      "metadata": {
        "tags": [],
        "cell_id": "00004-de675e90-603b-4426-bf40-a37a3519a906",
        "deepnote_to_be_reexecuted": false,
        "source_hash": "f6321d56",
        "execution_millis": 9,
        "execution_start": 1614888438903,
        "deepnote_cell_type": "code"
      },
      "outputs": [
        {
          "name": "stdout",
          "text": "mininmum validation loss: 0.4115854799747467\n",
          "output_type": "stream"
        }
      ],
      "execution_count": 72
    },
    {
      "cell_type": "markdown",
      "source": "<a style='text-decoration:none;line-height:16px;display:flex;color:#5B5B62;padding:10px;justify-content:end;' href='https://deepnote.com?utm_source=created-in-deepnote-cell&projectId=88190736-eb57-4922-a018-2ff5a44a7537' target=\"_blank\">\n<img style='display:inline;max-height:16px;margin:0px;margin-right:7.5px;' src='data:image/svg+xml;base64,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' > </img>\nCreated in <span style='font-weight:600;margin-left:4px;'>Deepnote</span></a>",
      "metadata": {
        "tags": [],
        "created_in_deepnote_cell": true,
        "deepnote_cell_type": "markdown"
      }
    }
  ],
  "nbformat": 4,
  "nbformat_minor": 2,
  "metadata": {
    "orig_nbformat": 2,
    "deepnote_notebook_id": "e183df05-1f2a-4025-805f-b89dc5ba8313",
    "deepnote": {},
    "deepnote_execution_queue": []
  }
}